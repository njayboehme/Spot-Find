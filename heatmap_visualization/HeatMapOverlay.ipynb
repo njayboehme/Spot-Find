{
 "cells": [
  {
   "attachments": {},
   "cell_type": "markdown",
   "metadata": {},
   "source": [
    "Take this code and paste it into google colab with this line added to the imports: \n",
    "from google.colab import output\n",
    "output.enable_custom_widget_manager()\n",
    "\n",
    "For some reason, this does not show the fig in a python notebook. In Google Colab you will also need to use !pip install gmaps."
   ]
  },
  {
   "cell_type": "code",
   "execution_count": 7,
   "metadata": {},
   "outputs": [],
   "source": [
    "import gmaps\n",
    "import gmaps.datasets\n",
    "import pandas as pd\n",
    "gmaps.configure(api_key='SEE THE API KEY IN BOX->Team 26->HTM-002')\n",
    "FILENAME = r'C:\\Users\\njboe\\Desktop\\Capstone\\Spot-Find\\heatmap_visualization\\data_points_2022-03-28 09_30_26.258499.csv'"
   ]
  },
  {
   "cell_type": "code",
   "execution_count": 8,
   "metadata": {},
   "outputs": [
    {
     "data": {
      "application/vnd.jupyter.widget-view+json": {
       "model_id": "68918c88b59b4a59999c42852fcf32f6",
       "version_major": 2,
       "version_minor": 0
      },
      "text/plain": [
       "Figure(layout=FigureLayout(height='420px'))"
      ]
     },
     "execution_count": 8,
     "metadata": {},
     "output_type": "execute_result"
    }
   ],
   "source": [
    "df = pd.read_csv(FILENAME)\n",
    "locations = df[['latitude', 'longitude']]\n",
    "weights = df['Wi-Fi RSSI'].fillna(0)\n",
    "weights = weights * -1\n",
    "fig = gmaps.figure()\n",
    "fig.add_layer(gmaps.heatmap_layer(locations, weights=weights))\n",
    "fig"
   ]
  }
 ],
 "metadata": {
  "kernelspec": {
   "display_name": ".venv",
   "language": "python",
   "name": "python3"
  },
  "language_info": {
   "codemirror_mode": {
    "name": "ipython",
    "version": 3
   },
   "file_extension": ".py",
   "mimetype": "text/x-python",
   "name": "python",
   "nbconvert_exporter": "python",
   "pygments_lexer": "ipython3",
   "version": "3.10.4"
  },
  "orig_nbformat": 4
 },
 "nbformat": 4,
 "nbformat_minor": 2
}
